{
 "cells": [
  {
   "cell_type": "markdown",
   "metadata": {},
   "source": [
    "# 🧑‍🏫 Task 1 Part 1: Building a Spam Classifier with Naive Bayes\n",
    "In this exercise, you'll implement a spam classifier using the **Naive Bayes algorithm** . You'll work with email data to classify messages as spam or non-spam (ham). Follow the steps below and fill in the code where indicated.\n",
    "\n",
    "**Objective:** Implement all key components of an ML pipeline (except for data handling).\n",
    "\n",
    "**Allowed Libraries:** `pandas`, `numpy`\n",
    "\n",
    "**Not Allowed:** Any pre-built ML algorithms or functions like those from `sklearn`.\n",
    "\n",
    "Follow the instructions step-by-step and answer the questions!"
   ]
  },
  {
   "cell_type": "markdown",
   "metadata": {},
   "source": [
    "## Step 1: Data Loading and Preprocessing\n",
    "First, let's load and examine our data."
   ]
  },
  {
   "cell_type": "code",
   "execution_count": 2,
   "metadata": {},
   "outputs": [],
   "source": [
    "# Load the data\n",
    "# TODO: Load the 'emails.csv' file into a DataFrame called 'emails'\n",
    "#import csv\n",
    "import pandas as pd\n",
    "emails = pd.read_csv('emails.csv')"
   ]
  },
  {
   "cell_type": "code",
   "execution_count": 3,
   "metadata": {},
   "outputs": [
    {
     "data": {
      "text/html": [
       "<div>\n",
       "<style scoped>\n",
       "    .dataframe tbody tr th:only-of-type {\n",
       "        vertical-align: middle;\n",
       "    }\n",
       "\n",
       "    .dataframe tbody tr th {\n",
       "        vertical-align: top;\n",
       "    }\n",
       "\n",
       "    .dataframe thead th {\n",
       "        text-align: right;\n",
       "    }\n",
       "</style>\n",
       "<table border=\"1\" class=\"dataframe\">\n",
       "  <thead>\n",
       "    <tr style=\"text-align: right;\">\n",
       "      <th></th>\n",
       "      <th>text</th>\n",
       "      <th>spam</th>\n",
       "    </tr>\n",
       "  </thead>\n",
       "  <tbody>\n",
       "    <tr>\n",
       "      <th>0</th>\n",
       "      <td>Subject: naturally irresistible your corporate...</td>\n",
       "      <td>1</td>\n",
       "    </tr>\n",
       "    <tr>\n",
       "      <th>1</th>\n",
       "      <td>Subject: the stock trading gunslinger  fanny i...</td>\n",
       "      <td>1</td>\n",
       "    </tr>\n",
       "    <tr>\n",
       "      <th>2</th>\n",
       "      <td>Subject: unbelievable new homes made easy  im ...</td>\n",
       "      <td>1</td>\n",
       "    </tr>\n",
       "    <tr>\n",
       "      <th>3</th>\n",
       "      <td>Subject: 4 color printing special  request add...</td>\n",
       "      <td>1</td>\n",
       "    </tr>\n",
       "    <tr>\n",
       "      <th>4</th>\n",
       "      <td>Subject: do not have money , get software cds ...</td>\n",
       "      <td>1</td>\n",
       "    </tr>\n",
       "  </tbody>\n",
       "</table>\n",
       "</div>"
      ],
      "text/plain": [
       "                                                text  spam\n",
       "0  Subject: naturally irresistible your corporate...     1\n",
       "1  Subject: the stock trading gunslinger  fanny i...     1\n",
       "2  Subject: unbelievable new homes made easy  im ...     1\n",
       "3  Subject: 4 color printing special  request add...     1\n",
       "4  Subject: do not have money , get software cds ...     1"
      ]
     },
     "execution_count": 3,
     "metadata": {},
     "output_type": "execute_result"
    }
   ],
   "source": [
    "# Display the first few rows\n",
    "emails.head()\n",
    "\n",
    "# HINT: Use pd.read_csv() to load the data\n",
    "# HINT: The DataFrame should have 'text' and 'spam' columns"
   ]
  },
  {
   "cell_type": "code",
   "execution_count": 4,
   "metadata": {},
   "outputs": [
    {
     "name": "stdout",
     "output_type": "stream",
     "text": [
      "<class 'pandas.core.frame.DataFrame'>\n",
      "RangeIndex: 5728 entries, 0 to 5727\n",
      "Data columns (total 2 columns):\n",
      " #   Column  Non-Null Count  Dtype \n",
      "---  ------  --------------  ----- \n",
      " 0   text    5728 non-null   object\n",
      " 1   spam    5728 non-null   int64 \n",
      "dtypes: int64(1), object(1)\n",
      "memory usage: 89.6+ KB\n"
     ]
    },
    {
     "data": {
      "text/plain": [
       "(None, 5728, 5728)"
      ]
     },
     "execution_count": 4,
     "metadata": {},
     "output_type": "execute_result"
    }
   ],
   "source": [
    "\"\"\"#Analyse the data and remove or modify rows with missing or invalid values\n",
    "eils.isna(), emails.isnull()\"\"\"\n",
    "emails.info(), len(emails['text']), len(emails['spam'])"
   ]
  },
  {
   "cell_type": "markdown",
   "metadata": {},
   "source": [
    "## Step 2: Text Preprocessing\n",
    "We need to process each email to extract unique words."
   ]
  },
  {
   "cell_type": "code",
   "execution_count": 5,
   "metadata": {},
   "outputs": [],
   "source": [
    "def process_email(text):\n",
    "    \"\"\"\n",
    "    Convert email text to a list of unique, lowercase words\n",
    "    \n",
    "    Parameters:\n",
    "        text (str): The email text\n",
    "    \n",
    "    Returns:\n",
    "        list: List of unique words in the email\n",
    "    \"\"\"\n",
    "    # TODO: Implement the preprocessing function\n",
    "    # 1. Convert text to lowercase\n",
    "    # 2. Split into words\n",
    "    # 3. Remove duplicates\n",
    "\n",
    "    # Your code here\n",
    "    text=text.lower()\n",
    "    return set(text.split())\n",
    "    \n",
    "    # HINT: Use text.lower() for lowercase conversion\n",
    "    # HINT: Use split() to convert text to words\n",
    "    # HINT: Use set() to remove duplicates\n",
    "    pass"
   ]
  },
  {
   "cell_type": "code",
   "execution_count": 6,
   "metadata": {},
   "outputs": [
    {
     "data": {
      "text/plain": [
       "{'%',\n",
       " \"'\",\n",
       " ',',\n",
       " '-',\n",
       " '.',\n",
       " '100',\n",
       " ':',\n",
       " ';',\n",
       " '_',\n",
       " 'a',\n",
       " 'affordability',\n",
       " 'aim',\n",
       " 'all',\n",
       " 'amount',\n",
       " 'and',\n",
       " 'are',\n",
       " 'at',\n",
       " 'automaticaily',\n",
       " 'be',\n",
       " 'become',\n",
       " 'benefits',\n",
       " 'break',\n",
       " 'budget',\n",
       " 'business',\n",
       " 'but',\n",
       " 'catchy',\n",
       " 'change',\n",
       " 'changes',\n",
       " 'ciear',\n",
       " 'clear',\n",
       " 'collaboration',\n",
       " 'company',\n",
       " 'content',\n",
       " 'convenience',\n",
       " 'corporate',\n",
       " 'creativeness',\n",
       " 'days',\n",
       " 'distinctive',\n",
       " 'do',\n",
       " 'done',\n",
       " 'drafts',\n",
       " 'easier',\n",
       " 'easy',\n",
       " 'effective',\n",
       " 'efforts',\n",
       " 'even',\n",
       " 'extra',\n",
       " 'fees',\n",
       " 'for',\n",
       " 'formats',\n",
       " 'full',\n",
       " 'gaps',\n",
       " 'good',\n",
       " 'guaranteed',\n",
       " 'hand',\n",
       " 'hard',\n",
       " 'have',\n",
       " 'havinq',\n",
       " 'here',\n",
       " 'hotat',\n",
       " 'identity',\n",
       " 'ieader',\n",
       " 'image',\n",
       " 'in',\n",
       " 'information',\n",
       " 'interested',\n",
       " 'iogo',\n",
       " 'irresistible',\n",
       " 'is',\n",
       " 'isguite',\n",
       " 'isoverwhelminq',\n",
       " 'it',\n",
       " 'its',\n",
       " 'letsyou',\n",
       " 'list',\n",
       " 'logo',\n",
       " 'logos',\n",
       " 'look',\n",
       " 'love',\n",
       " 'lt',\n",
       " 'made',\n",
       " 'make',\n",
       " 'management',\n",
       " 'market',\n",
       " 'marketing',\n",
       " 'more',\n",
       " 'much',\n",
       " 'naturally',\n",
       " 'no',\n",
       " 'not',\n",
       " 'nowadays',\n",
       " 'of',\n",
       " 'ordered',\n",
       " 'organization',\n",
       " 'original',\n",
       " 'our',\n",
       " 'outstanding',\n",
       " 'portfolio',\n",
       " 'practicable',\n",
       " 'products',\n",
       " 'promise',\n",
       " 'promptness',\n",
       " 'provide',\n",
       " 'provided',\n",
       " 'really',\n",
       " 'recollect',\n",
       " 'reflect',\n",
       " 'result',\n",
       " 'satisfaction',\n",
       " 'see',\n",
       " 'shouldn',\n",
       " 'specially',\n",
       " 'stationery',\n",
       " 'statlonery',\n",
       " 'structure',\n",
       " 'stylish',\n",
       " 'subject:',\n",
       " 'suqgestions',\n",
       " 'surethat',\n",
       " 'system',\n",
       " 't',\n",
       " 'task',\n",
       " 'that',\n",
       " 'the',\n",
       " 'this',\n",
       " 'three',\n",
       " 'through',\n",
       " 'to',\n",
       " 'unlimited',\n",
       " 'use',\n",
       " 'we',\n",
       " 'website',\n",
       " 'will',\n",
       " 'with',\n",
       " 'within',\n",
       " 'without',\n",
       " 'world',\n",
       " 'you',\n",
       " 'your'}"
      ]
     },
     "execution_count": 6,
     "metadata": {},
     "output_type": "execute_result"
    }
   ],
   "source": [
    "# Apply preprocessing to all emails\n",
    "process_email(emails['text'][0])\n"
   ]
  },
  {
   "cell_type": "code",
   "execution_count": 7,
   "metadata": {},
   "outputs": [
    {
     "name": "stdout",
     "output_type": "stream",
     "text": [
      "{'\"text\",\"spam\"'}\n",
      "{'practicable', 'have', 'in', 'break', 'within', 'task', 'of', 'hotat', 'see', '.', 'suqgestions', 'naturally', 'to', '_', 'result', 'effective', 'nowadays', 'a', 'that', 'it', 'its', 'amount', 'havinq', 'market', 'hand', 'world', 'all', 'iogo', 'portfolio', 'be', 'good', 'much', 'isguite', 'use', '100', 'made', 'full', 'ciear', 'management', 'image', 'stylish', 'through', 'but', 'become', 'look', 'your', 'logos', 'provided', 'fees', 'gaps', 'catchy', 'structure', 'provide', 'website', 'make', 'love', 'this', 'organization', 't', 'shouldn', 'ordered', 'done', 'budget', 'days', 'list', 'satisfaction', 'drafts', 'statlonery', 'reflect', 'do', '%', 'changes', 'automaticaily', 'at', 'even', 'system', 'you', 'ieader', 'more', 'without', 'outstanding', 'affordability', ';', 'business', 'three', '_\",1', 'letsyou', 'collaboration', 'unlimited', 'corporate', \"'\", 'easier', 'hard', 'change', 'specially', 'identity', 'logo', 'benefits', 'distinctive', 'stationery', ':', 'irresistible', '-', 'company', 'we', 'with', 'our', 'not', 'promptness', 'recollect', 'convenience', 'products', 'interested', 'will', 'aim', 'extra', 'guaranteed', 'information', 'efforts', 'creativeness', 'is', 'isoverwhelminq', 'here', 'the', 'lt', 'original', 'content', 'and', 'for', 'marketing', '\"subject:', 'clear', 'promise', 'easy', 'no', ',', 'are', 'really', 'formats', 'surethat'}\n"
     ]
    }
   ],
   "source": [
    "# Test your preprocessing by testing on the first email\n",
    "f=open(\"emails.csv\",'r')\n",
    "s=f.readline()\n",
    "print(process_email(s))\n",
    "s=f.readline()\n",
    "print(process_email(s))\n",
    "f.close()\n",
    "\n"
   ]
  },
  {
   "cell_type": "markdown",
   "metadata": {},
   "source": [
    "## Step 3: Calculate Prior Probabilities\n",
    "Let's calculate the basic probability of an email being spam."
   ]
  },
  {
   "cell_type": "code",
   "execution_count": 8,
   "metadata": {},
   "outputs": [
    {
     "name": "stdout",
     "output_type": "stream",
     "text": [
      "Number of emails: 5728\n",
      "Number of spam emails: 1368\n",
      "Probability of spam: 0.2388\n"
     ]
    }
   ],
   "source": [
    "# TODO: Calculate the following:\n",
    "# 1. Total number of emails\n",
    "# 2. Number of spam emails\n",
    "# 3. Probability of spam\n",
    "\n",
    "num_emails = len(emails)\n",
    "num_spam = sum(emails['spam'])# Your code here\n",
    "spam_probability =num_spam/num_emails # Your code here\n",
    "print(f\"Number of emails: {num_emails}\")\n",
    "print(f\"Number of spam emails: {num_spam}\")\n",
    "print(f\"Probability of spam: {spam_probability:.4f}\")\n",
    "\n",
    "# HINT: Use len(emails) for total count\n",
    "# HINT: Use sum(emails['spam']) for spam count"
   ]
  },
  {
   "cell_type": "markdown",
   "metadata": {},
   "source": [
    "## Step 4: Training the Model\n",
    "Now we'll build our Naive Bayes model by counting word occurrences in spam and ham emails."
   ]
  },
  {
   "cell_type": "code",
   "execution_count": 9,
   "metadata": {},
   "outputs": [],
   "source": [
    "\n",
    "def train_naive_bayes(emails_data):\n",
    "    \"\"\"\n",
    "    Train a Naive Bayes model on email data\n",
    "    \n",
    "    Parameters:\n",
    "        emails_data (DataFrame): DataFrame with 'words' and 'spam' columns\n",
    "    \n",
    "    Returns:\n",
    "        dict: Dictionary with word frequencies in spam and ham emails\n",
    "    \"\"\"\n",
    "    # TODO: Create a dictionary to store word frequencies\n",
    "    # For each word, store counts of its occurrence in spam and ham emails\n",
    "    model = {}\n",
    "    for t in range(len(emails_data['text'])):\n",
    "        s=emails_data['text'][t]\n",
    "        ch=emails_data['spam'][t]\n",
    "        ps=process_email(s)\n",
    "        for i in ps:\n",
    "            if ch==1:\n",
    "                if i not in model:\n",
    "                    model[i]={'spam': 1, 'ham': 0}\n",
    "                else:\n",
    "                    model[i]['spam']+=1\n",
    "            elif ch==0:\n",
    "                if i not in model:\n",
    "                    model[i]={'spam':0, 'ham': 1}\n",
    "                else:\n",
    "                    model[i]['ham']+=1     \n",
    "                '''elif 'ham' in model[i]:\n",
    "                        model[i]['ham']+=1'''\n",
    "                        \n",
    "\n",
    "    \n",
    "\n",
    "    # Your code here\n",
    "    # HINT: Initialize counts with 1 (Laplace smoothing)\n",
    "    # HINT: Structure: model[word] = {'spam': count, 'ham': count}\n",
    "    \n",
    "    # {'xy':['spam':2,'ham':3]}\n",
    "\n",
    "    return model"
   ]
  },
  {
   "cell_type": "code",
   "execution_count": 10,
   "metadata": {},
   "outputs": [],
   "source": [
    "model = train_naive_bayes(emails)"
   ]
  },
  {
   "cell_type": "code",
   "execution_count": 11,
   "metadata": {},
   "outputs": [
    {
     "data": {
      "text/plain": [
       "{'spam': 38, 'ham': 41}"
      ]
     },
     "execution_count": 11,
     "metadata": {},
     "output_type": "execute_result"
    }
   ],
   "source": [
    "# Test your model with some words\n",
    "# Examples: 'lottery', 'sale', 'meeting'\n",
    "\n",
    "model['sale']\n"
   ]
  },
  {
   "cell_type": "markdown",
   "metadata": {},
   "source": [
    "## Step 5: Implementing the Prediction Function\n",
    "Finally, let's implement the function to predict whether an email is spam."
   ]
  },
  {
   "cell_type": "code",
   "execution_count": 12,
   "metadata": {},
   "outputs": [],
   "source": [
    "import math as ma\n",
    "def predict_naive_bayes(email_text, model, num_spam, num_ham):\n",
    "    \"\"\"\n",
    "    Predict whether an email is spam using Naive Bayes\n",
    "    \n",
    "    Parameters:\n",
    "        email_text (str): The text of the email to classify\n",
    "        model (dict): Trained Naive Bayes model\n",
    "        num_spam (int): Number of spam emails in training data\n",
    "        num_ham (int): Number of ham emails in training data\n",
    "    \n",
    "    Returns:\n",
    "        float: Probability that the email is spam\n",
    "    \"\"\"\n",
    "    # TODO: Implement the Naive Bayes prediction\n",
    "    # 1. Preprocess the email text\n",
    "    # 2. Calculate probability using the Naive Bayes formula\n",
    "\n",
    "    # Your code here\n",
    "    pt=process_email(email_text)\n",
    "    h_prob=1\n",
    "    s_prob=1\n",
    "    total_prob_s=0\n",
    "    total_prob_h=0\n",
    "    for i in pt:\n",
    "        if i in model:\n",
    "            no_sp_w=model[i]['spam']\n",
    "            no_ha_w=model[i]['ham']\n",
    "            s_prob*=(no_sp_w/num_spam)*spam_probability\n",
    "            h_prob*=((no_ha_w/num_ham)*(1-spam_probability))\n",
    "            total_prob_h+=((no_ha_w/num_emails-num_spam)*(1-spam_probability))\n",
    "            total_prob_s+=((no_sp_w/num_spam)*spam_probability)\n",
    "        \"\"\"except:\n",
    "            return \"Word not Found\"\"\"\n",
    "    spam_ch=(s_prob/total_prob_s)\n",
    "    ham_ch=(h_prob/total_prob_h)\n",
    "    if spam_ch>ham_ch:\n",
    "        return \"It is a spam email\", spam_ch,ham_ch\n",
    "    else:\n",
    "        return \"It is a ham email\" , spam_ch,ham_ch  \n",
    "    \n",
    "    \n",
    "    \n",
    "\n",
    "    # HINT: Use the log of probabilities to avoid numerical underflow\n",
    "    # HINT: Remember to handle words not in the training data\n",
    "    pass"
   ]
  },
  {
   "cell_type": "code",
   "execution_count": 13,
   "metadata": {},
   "outputs": [
    {
     "name": "stdout",
     "output_type": "stream",
     "text": [
      "('It is a spam email', 1.881791402834372e-11, -0.0)\n",
      "('It is a spam email', 3.2028393059557325e-06, -7.60179486097216e-07)\n",
      "('It is a spam email', 3.240842347107202e-08, -0.0)\n"
     ]
    }
   ],
   "source": [
    "# Test your prediction function\n",
    "test_emails = [\n",
    "    \"lottery winner claim prize money\",\n",
    "    \"meeting tomorrow at 3pm\",\n",
    "    \"buy cheap watches online\"\n",
    "]\n",
    "for i in test_emails:\n",
    "    print(predict_naive_bayes(i, model, num_spam, num_emails-num_spam))\n"
   ]
  },
  {
   "cell_type": "markdown",
   "metadata": {},
   "source": [
    "## Step 6: Wrap-up\n",
    "1. How well did your model perform?\n",
    "2. What challenges did you face while implementing it from scratch?\n",
    "3. What improvements would you suggest for the future?"
   ]
  },
  {
   "cell_type": "markdown",
   "metadata": {},
   "source": [
    "### Notes (if any):"
   ]
  }
 ],
 "metadata": {
  "kernelspec": {
   "display_name": "base",
   "language": "python",
   "name": "python3"
  },
  "language_info": {
   "codemirror_mode": {
    "name": "ipython",
    "version": 3
   },
   "file_extension": ".py",
   "mimetype": "text/x-python",
   "name": "python",
   "nbconvert_exporter": "python",
   "pygments_lexer": "ipython3",
   "version": "3.12.4"
  }
 },
 "nbformat": 4,
 "nbformat_minor": 4
}
